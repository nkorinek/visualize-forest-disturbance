{
 "cells": [
  {
   "cell_type": "markdown",
   "metadata": {},
   "source": [
    "# Create a latitudinal summary for disturbance arrays\n",
    "\n",
    "This notebook was used to develop the latitudinal summarys for disturbance arrays"
   ]
  },
  {
   "cell_type": "code",
   "execution_count": 17,
   "metadata": {},
   "outputs": [],
   "source": [
    "import earthpy as et\n",
    "from os import path\n",
    "import numpy as np\n",
    "import pandas as pd\n",
    "from shapely import box\n",
    "import matplotlib.pyplot as plt\n",
    "import geopandas as gpd\n",
    "import rasterio as rio\n",
    "from rasterio.plot import plotting_extent\n",
    "import gc\n",
    "\n",
    "home = path.join(et.io.HOME, \"GitHub\", \"visualize-forest-disturbance\")\n",
    "\n",
    "output_folder = path.join(et.io.HOME, \"GitHub\", \"visualize-forest-disturbance\", \"data\", \"output\")\n",
    "\n",
    "home_tif = path.join(output_folder, \"output_tifs\")\n",
    "\n",
    "forest_folder = path.join(home, \"data\", \"input\", \"forest-disturbance-stack\", \"western-conus\")"
   ]
  },
  {
   "cell_type": "code",
   "execution_count": 2,
   "metadata": {},
   "outputs": [],
   "source": [
    "fire_int_path = path.join(home_tif, 'fire_stack.tif')\n",
    "beetle_int_path = path.join(home_tif, 'beetle_stack.tif')\n",
    "drought_int_path = path.join(home_tif, 'drought_stack.tif')\n",
    "all_int_path = path.join(forest_folder, \"total_disturbances.tif\")"
   ]
  },
  {
   "cell_type": "code",
   "execution_count": 3,
   "metadata": {},
   "outputs": [],
   "source": [
    "drought_lat_path = path.join(output_folder, \"output_csvs\", \"drought_lat.csv\")\n",
    "fire_lat_path = path.join(output_folder, \"output_csvs\", \"fire_lat.csv\")\n",
    "beetle_lat_path = path.join(output_folder, \"output_csvs\", \"beetle_lat.csv\")\n",
    "all_lat_path = path.join(output_folder, \"output_csvs\", \"all_lat.csv\")"
   ]
  },
  {
   "cell_type": "code",
   "execution_count": 4,
   "metadata": {},
   "outputs": [],
   "source": [
    "with rio.open(fire_int_path) as src:\n",
    "    fire_crs = src.crs\n",
    "    fire_array = src.read(1)\n",
    "    fire_extent = plotting_extent(src)\n",
    "    fire_meta = src.profile\n",
    "    fire_transofrm = src.transform\n",
    "\n",
    "fire_array[(fire_array > 0) & (fire_array < 255)] = 1"
   ]
  },
  {
   "cell_type": "code",
   "execution_count": 5,
   "metadata": {},
   "outputs": [],
   "source": [
    "with rio.open(drought_int_path) as src:\n",
    "    drought_array = src.read(1)\n",
    "    drought_extent = plotting_extent(src)\n",
    "    drought_meta = src.profile\n",
    "\n",
    "drought_array[(drought_array > 0) & (drought_array < 255)] = 1"
   ]
  },
  {
   "cell_type": "code",
   "execution_count": 6,
   "metadata": {},
   "outputs": [],
   "source": [
    "with rio.open(beetle_int_path) as src:\n",
    "    beetle_array = src.read(1)\n",
    "    beetle_extent = plotting_extent(src)\n",
    "    beetle_meta = src.profile\n",
    "\n",
    "beetle_array[(beetle_array > 0) & (beetle_array < 255)] = 1"
   ]
  },
  {
   "cell_type": "code",
   "execution_count": 7,
   "metadata": {},
   "outputs": [],
   "source": [
    "with rio.open(all_int_path) as src:\n",
    "    all_array = src.read(1)\n",
    "    all_extent = plotting_extent(src)\n",
    "    all_meta = src.profile\n",
    "\n",
    "all_array[(all_array > 0) & (all_array < 255)] = 1"
   ]
  },
  {
   "cell_type": "code",
   "execution_count": 8,
   "metadata": {},
   "outputs": [
    {
     "data": {
      "text/html": [
       "<div>\n",
       "<style scoped>\n",
       "    .dataframe tbody tr th:only-of-type {\n",
       "        vertical-align: middle;\n",
       "    }\n",
       "\n",
       "    .dataframe tbody tr th {\n",
       "        vertical-align: top;\n",
       "    }\n",
       "\n",
       "    .dataframe thead th {\n",
       "        text-align: right;\n",
       "    }\n",
       "</style>\n",
       "<table border=\"1\" class=\"dataframe\">\n",
       "  <thead>\n",
       "    <tr style=\"text-align: right;\">\n",
       "      <th></th>\n",
       "      <th>minx</th>\n",
       "      <th>miny</th>\n",
       "      <th>maxx</th>\n",
       "      <th>maxy</th>\n",
       "    </tr>\n",
       "  </thead>\n",
       "  <tbody>\n",
       "    <tr>\n",
       "      <th>0</th>\n",
       "      <td>-127.887457</td>\n",
       "      <td>29.252141</td>\n",
       "      <td>-101.360153</td>\n",
       "      <td>51.431376</td>\n",
       "    </tr>\n",
       "  </tbody>\n",
       "</table>\n",
       "</div>"
      ],
      "text/plain": [
       "         minx       miny        maxx       maxy\n",
       "0 -127.887457  29.252141 -101.360153  51.431376"
      ]
     },
     "execution_count": 8,
     "metadata": {},
     "output_type": "execute_result"
    }
   ],
   "source": [
    "b = box(fire_extent[0], fire_extent[2], fire_extent[1], fire_extent[3])\n",
    "g = gpd.GeoDataFrame(geometry = [b], crs=fire_crs).to_crs(\"EPSG:4326\")\n",
    "g.bounds"
   ]
  },
  {
   "cell_type": "code",
   "execution_count": 9,
   "metadata": {},
   "outputs": [],
   "source": [
    "def count_values_and_calculate_percent(array):\n",
    "    \"\"\"\n",
    "    Processes a 2D array to count the number of 0s and 1s in each row,\n",
    "    calculates the percentage of 1s, and returns a DataFrame with this information.\n",
    "    Prints a progress update every 1000 rows.\n",
    "\n",
    "    Parameters:\n",
    "    array (np.ndarray): A 2D NumPy array containing 0s, 1s, and potentially other values.\n",
    "\n",
    "    Returns:\n",
    "    pd.DataFrame: DataFrame with columns 'Row', 'Count of 0s', 'Count of 1s', and 'Percent of 1s'.\n",
    "    \"\"\"\n",
    "    num_rows = array.shape[0]\n",
    "    rows = []\n",
    "    count_zeros = []\n",
    "    count_ones = []\n",
    "    percent_ones = []\n",
    "    totals = []\n",
    "\n",
    "    for i, row in enumerate(array):\n",
    "        if i % 10000 == 0:\n",
    "            print(f\"Processing row {i} of {num_rows}...\")\n",
    "\n",
    "        # Filter the row to include only 0s and 1s\n",
    "        filtered_row = row[(row == 0) | (row == 1)]\n",
    "        \n",
    "        # Count occurrences of 0s and 1s\n",
    "        count_zeros_row = np.sum(filtered_row == 0)\n",
    "        count_ones_row = np.sum(filtered_row == 1)\n",
    "        total_count = count_zeros_row + count_ones_row\n",
    "        \n",
    "        # Calculate percentage of 1s\n",
    "        percent_ones_row = (count_ones_row / total_count) * 100 if total_count > 0 else 0\n",
    "        \n",
    "        # Append results\n",
    "        rows.append(i)\n",
    "        count_zeros.append(count_zeros_row)\n",
    "        count_ones.append(count_ones_row)\n",
    "        percent_ones.append(percent_ones_row)\n",
    "        totals.append(total_count)\n",
    "\n",
    "    # Create a DataFrame from the collected data\n",
    "    df = pd.DataFrame({\n",
    "        'Row': rows,\n",
    "        'Count of 0s': count_zeros,\n",
    "        'Count of 1s': count_ones,\n",
    "        'Total' : totals,\n",
    "        'Percent of 1s': percent_ones\n",
    "    })\n",
    "\n",
    "    return df\n"
   ]
  },
  {
   "cell_type": "code",
   "execution_count": 10,
   "metadata": {},
   "outputs": [],
   "source": [
    "def summarize_by_1000_rows(df):\n",
    "    \"\"\"\n",
    "    Summarizes the DataFrame by aggregating the percentages over every 1000 rows\n",
    "    and stores these aggregated values with the first index of each summarized area.\n",
    "\n",
    "    Parameters:\n",
    "    df (pd.DataFrame): DataFrame containing 'Row' and 'Percent of 1s' columns.\n",
    "\n",
    "    Returns:\n",
    "    pd.DataFrame: DataFrame with summarized data.\n",
    "    \"\"\"\n",
    "    # Determine the number of rows\n",
    "    num_rows = df.shape[0]\n",
    "    \n",
    "    # Calculate the number of groups (each containing 1000 rows)\n",
    "    num_groups = (num_rows + 999) // 1000\n",
    "    \n",
    "    # Initialize lists to hold summary data\n",
    "    summarized_rows = []\n",
    "    summarized_percentages = []\n",
    "    \n",
    "    # Process each group\n",
    "    for group in range(num_groups):\n",
    "        start_index = group * 1000\n",
    "        end_index = min((group + 1) * 1000, num_rows)\n",
    "        \n",
    "        # Select the subset of the DataFrame\n",
    "        subset = df.iloc[start_index:end_index]\n",
    "        \n",
    "        # Sum the percentages in this group\n",
    "        total_percentage = subset['Percent of 1s'].sum()\n",
    "        \n",
    "        # Store the result with the first index of the group\n",
    "        summarized_rows.append(int(df.iloc[start_index]['Row']))\n",
    "        summarized_percentages.append(total_percentage / (end_index - start_index))\n",
    "    \n",
    "    # Create a summarized DataFrame\n",
    "    summarized_df = pd.DataFrame({\n",
    "        'Row': summarized_rows,\n",
    "        'Percent of 1s': summarized_percentages\n",
    "    })\n",
    "    \n",
    "    return summarized_df"
   ]
  },
  {
   "cell_type": "code",
   "execution_count": 11,
   "metadata": {},
   "outputs": [
    {
     "name": "stdout",
     "output_type": "stream",
     "text": [
      "Processing row 0 of 72692...\n",
      "Processing row 10000 of 72692...\n",
      "Processing row 20000 of 72692...\n",
      "Processing row 30000 of 72692...\n",
      "Processing row 40000 of 72692...\n",
      "Processing row 50000 of 72692...\n",
      "Processing row 60000 of 72692...\n",
      "Processing row 70000 of 72692...\n"
     ]
    }
   ],
   "source": [
    "fire_df = count_values_and_calculate_percent(fire_array)\n",
    "fire_df.to_csv(fire_lat_path)"
   ]
  },
  {
   "cell_type": "code",
   "execution_count": 12,
   "metadata": {},
   "outputs": [
    {
     "name": "stdout",
     "output_type": "stream",
     "text": [
      "Processing row 0 of 72692...\n",
      "Processing row 10000 of 72692...\n",
      "Processing row 20000 of 72692...\n",
      "Processing row 30000 of 72692...\n",
      "Processing row 40000 of 72692...\n",
      "Processing row 50000 of 72692...\n",
      "Processing row 60000 of 72692...\n",
      "Processing row 70000 of 72692...\n"
     ]
    }
   ],
   "source": [
    "drought_df = count_values_and_calculate_percent(drought_array)\n",
    "drought_df.to_csv(drought_lat_path)"
   ]
  },
  {
   "cell_type": "code",
   "execution_count": 13,
   "metadata": {},
   "outputs": [
    {
     "name": "stdout",
     "output_type": "stream",
     "text": [
      "Processing row 0 of 72692...\n",
      "Processing row 10000 of 72692...\n",
      "Processing row 20000 of 72692...\n",
      "Processing row 30000 of 72692...\n",
      "Processing row 40000 of 72692...\n",
      "Processing row 50000 of 72692...\n",
      "Processing row 60000 of 72692...\n",
      "Processing row 70000 of 72692...\n"
     ]
    }
   ],
   "source": [
    "beetle_df = count_values_and_calculate_percent(beetle_array)\n",
    "beetle_df.to_csv(beetle_lat_path)"
   ]
  },
  {
   "cell_type": "code",
   "execution_count": 14,
   "metadata": {},
   "outputs": [
    {
     "name": "stdout",
     "output_type": "stream",
     "text": [
      "Processing row 0 of 72692...\n",
      "Processing row 10000 of 72692...\n",
      "Processing row 20000 of 72692...\n",
      "Processing row 30000 of 72692...\n",
      "Processing row 40000 of 72692...\n",
      "Processing row 50000 of 72692...\n",
      "Processing row 60000 of 72692...\n",
      "Processing row 70000 of 72692...\n"
     ]
    }
   ],
   "source": [
    "all_df = count_values_and_calculate_percent(all_array)\n",
    "all_df.to_csv(all_lat_path)"
   ]
  },
  {
   "cell_type": "code",
   "execution_count": 19,
   "metadata": {},
   "outputs": [
    {
     "data": {
      "text/plain": [
       "1027"
      ]
     },
     "execution_count": 19,
     "metadata": {},
     "output_type": "execute_result"
    }
   ],
   "source": [
    "del(fire_array)\n",
    "del(beetle_array)\n",
    "del(all_array)\n",
    "del(drought_array)\n",
    "gc.collect()"
   ]
  },
  {
   "cell_type": "code",
   "execution_count": 15,
   "metadata": {},
   "outputs": [
    {
     "data": {
      "image/png": "[encoded data removed]",
      "text/plain": [
       "<Figure size 800x600 with 1 Axes>"
      ]
     },
     "metadata": {},
     "output_type": "display_data"
    }
   ],
   "source": [
    "plt.figure(figsize=(8, 6))\n",
    "plt.fill_betweenx(fire_df['Row'], 0, fire_df['Total'], color='skyblue', label='Total (0s + 1s)')\n",
    "plt.fill_betweenx(fire_df['Row'], 0, fire_df['Count of 1s'], color='navy', label='Count of 1s')\n",
    "\n",
    "plt.xlabel('Count')\n",
    "plt.ylabel('Row')\n",
    "plt.title('Vertical Shaded Plot of Counts')\n",
    "plt.legend()\n",
    "plt.gca().invert_yaxis()  # Invert y-axis to have the lowest row number at the top\n",
    "plt.show()\n"
   ]
  }
 ],
 "metadata": {
  "kernelspec": {
   "display_name": "earth-analytics-python",
   "language": "python",
   "name": "python3"
  },
  "language_info": {
   "codemirror_mode": {
    "name": "ipython",
    "version": 3
   },
   "file_extension": ".py",
   "mimetype": "text/x-python",
   "name": "python",
   "nbconvert_exporter": "python",
   "pygments_lexer": "ipython3",
   "version": "3.9.16"
  }
 },
 "nbformat": 4,
 "nbformat_minor": 2
}
